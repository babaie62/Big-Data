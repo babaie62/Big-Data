{
 "cells": [
  {
   "cell_type": "markdown",
   "metadata": {},
   "source": [
    " را نمایش می دهد S3 قرار می دهد و رشته s3  را خوانده و کاراکترهای آنها را یک درمیان در رشته s1 ,s2  برنامه ای که رشته های    \n"
   ]
  },
  {
   "cell_type": "markdown",
   "metadata": {},
   "source": [
    "# دو رشته با طول های یکسان"
   ]
  },
  {
   "cell_type": "code",
   "execution_count": 40,
   "metadata": {},
   "outputs": [
    {
     "data": {
      "text/plain": [
       "['A', 'B', 'C', 'D', 'E', 'F', 'G', 'H']"
      ]
     },
     "execution_count": 40,
     "metadata": {},
     "output_type": "execute_result"
    }
   ],
   "source": [
    "S1='ACEG'\n",
    "S2='BDFH'\n",
    "characterS1=list(S1)\n",
    "characterS2=list(S2)\n",
    "characterS3=[]\n",
    "for i in range (len(characterS1)):\n",
    "    characterS3.append(characterS1[i])\n",
    "    characterS3.append(characterS2[i])\n",
    "characterS3    "
   ]
  },
  {
   "cell_type": "markdown",
   "metadata": {},
   "source": [
    "# دو رشته با طول های متفاوت"
   ]
  },
  {
   "cell_type": "code",
   "execution_count": 41,
   "metadata": {},
   "outputs": [
    {
     "data": {
      "text/plain": [
       "['A', 'B', 'C', 'D', 'E', 'F', 'G', 'H', ' ', 'Q']"
      ]
     },
     "execution_count": 41,
     "metadata": {},
     "output_type": "execute_result"
    }
   ],
   "source": [
    "S1='ACEG'\n",
    "S2='BDFHQ'\n",
    "\n",
    "characterS1=list(S1)\n",
    "characterS2=list(S2)\n",
    "\n",
    "difrent=abs(len(characterS1)-len(characterS2))\n",
    "if difrent!=0 :\n",
    "    if len(characterS1)>len(characterS2):\n",
    "        for i in range (difrent):\n",
    "            characterS2.append(' ')\n",
    "    else:\n",
    "        for i in range (difrent):\n",
    "            characterS1.append(' ')\n",
    "        \n",
    "characterS3=[]\n",
    "for i in range (len(characterS2)):\n",
    "    characterS3.append(characterS1[i])\n",
    "    characterS3.append(characterS2[i])\n",
    "\n",
    "characterS3 \n"
   ]
  },
  {
   "cell_type": "markdown",
   "metadata": {},
   "source": [
    "#  ورود رشته توسط کاربر وپاک کردن کارکتر خالی"
   ]
  },
  {
   "cell_type": "code",
   "execution_count": 55,
   "metadata": {},
   "outputs": [
    {
     "name": "stdout",
     "output_type": "stream",
     "text": [
      "please inter the first stringabc\n",
      "please inter the second string****\n",
      "['a', '*', 'b', '*', 'c', '*', ' ', '*']\n"
     ]
    },
    {
     "data": {
      "text/plain": [
       "['a', '*', 'b', '*', 'c', '*', '*']"
      ]
     },
     "execution_count": 55,
     "metadata": {},
     "output_type": "execute_result"
    }
   ],
   "source": [
    "S1=input('please inter the first string')\n",
    "S2=input('please inter the second string')\n",
    "\n",
    "characterS1=list(S1)\n",
    "characterS2=list(S2)\n",
    "\n",
    "difrent=abs(len(characterS1)-len(characterS2))\n",
    "if difrent!=0 :\n",
    "    if len(characterS1)>len(characterS2):\n",
    "        for i in range (difrent):\n",
    "            characterS2.append(' ')\n",
    "    else:\n",
    "        for i in range (difrent):\n",
    "            characterS1.append(' ')\n",
    "        \n",
    "characterS3=[]\n",
    "for i in range (len(characterS2)):\n",
    "    characterS3.append(characterS1[i])\n",
    "    characterS3.append(characterS2[i])\n",
    "\n",
    "print(characterS3)\n",
    "\n",
    "characterS3.pop(characterS3.index(' '))\n",
    "characterS3"
   ]
  },
  {
   "cell_type": "code",
   "execution_count": null,
   "metadata": {},
   "outputs": [],
   "source": []
  }
 ],
 "metadata": {
  "kernelspec": {
   "display_name": "Python 3",
   "language": "python",
   "name": "python3"
  },
  "language_info": {
   "codemirror_mode": {
    "name": "ipython",
    "version": 3
   },
   "file_extension": ".py",
   "mimetype": "text/x-python",
   "name": "python",
   "nbconvert_exporter": "python",
   "pygments_lexer": "ipython3",
   "version": "3.6.8"
  }
 },
 "nbformat": 4,
 "nbformat_minor": 2
}
