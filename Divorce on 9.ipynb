{
 "cells": [
  {
   "cell_type": "markdown",
   "metadata": {},
   "source": [
    "برنامه ای که تمام اعداد بین 1000 تا 1100 که بر 9 بخش پذیرند را نمایش دهد\n",
    "عددی بر 9 بخش پذیر است که مجموع ارقام آن بر 9 قابل قسمت باشد"
   ]
  },
  {
   "cell_type": "markdown",
   "metadata": {},
   "source": [
    "# the first example"
   ]
  },
  {
   "cell_type": "code",
   "execution_count": 53,
   "metadata": {},
   "outputs": [
    {
     "name": "stdout",
     "output_type": "stream",
     "text": [
      "1008\n",
      "1017\n",
      "1026\n",
      "1035\n",
      "1044\n",
      "1053\n",
      "1062\n",
      "1071\n",
      "1080\n",
      "1089\n",
      "1098\n"
     ]
    }
   ],
   "source": [
    "for i in range (1000,1100):\n",
    "    i=str(i)\n",
    "    sum=0\n",
    "    for j in range(len(i)):\n",
    "        sum+=int(i[j])\n",
    "    if sum%9 == 0 :\n",
    "        print(i)\n"
   ]
  },
  {
   "cell_type": "markdown",
   "metadata": {},
   "source": [
    "# the second example"
   ]
  },
  {
   "cell_type": "code",
   "execution_count": 54,
   "metadata": {},
   "outputs": [],
   "source": [
    "def Computing(number1,number2):\n",
    "    resulet=[]\n",
    "    for i in range (number1,number2):\n",
    "        i=str(i)\n",
    "        sum=0\n",
    "        for j in range(len(i)):\n",
    "            sum+=int(i[j])\n",
    "        if sum%9 == 0 :\n",
    "#             print(i)\n",
    "            resulet.append(int(i))\n",
    "    return resulet\n",
    "      "
   ]
  },
  {
   "cell_type": "code",
   "execution_count": 58,
   "metadata": {},
   "outputs": [
    {
     "name": "stdout",
     "output_type": "stream",
     "text": [
      "please enter the firist number1000\n",
      "please enter the second number1100\n"
     ]
    },
    {
     "data": {
      "text/plain": [
       "[1008, 1017, 1026, 1035, 1044, 1053, 1062, 1071, 1080, 1089, 1098]"
      ]
     },
     "execution_count": 58,
     "metadata": {},
     "output_type": "execute_result"
    }
   ],
   "source": [
    "x=int(input('please enter the firist number'))\n",
    "y=int(input('please enter the second number'))\n",
    "out=Computing(x,y)\n",
    "out"
   ]
  },
  {
   "cell_type": "code",
   "execution_count": null,
   "metadata": {},
   "outputs": [],
   "source": []
  },
  {
   "cell_type": "code",
   "execution_count": null,
   "metadata": {},
   "outputs": [],
   "source": []
  }
 ],
 "metadata": {
  "kernelspec": {
   "display_name": "Python 3",
   "language": "python",
   "name": "python3"
  },
  "language_info": {
   "codemirror_mode": {
    "name": "ipython",
    "version": 3
   },
   "file_extension": ".py",
   "mimetype": "text/x-python",
   "name": "python",
   "nbconvert_exporter": "python",
   "pygments_lexer": "ipython3",
   "version": "3.6.8"
  }
 },
 "nbformat": 4,
 "nbformat_minor": 2
}
